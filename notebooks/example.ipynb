{
 "cells": [
  {
   "cell_type": "code",
   "execution_count": null,
   "id": "d16c8e51-7408-428d-8376-2270dfdbdb77",
   "metadata": {},
   "outputs": [],
   "source": [
    "import os\n",
    "\n",
    "import time\n",
    "\n",
    "\n",
    "from dotenv import load_dotenv,find_dotenv\n",
    "\n",
    "_ = load_dotenv(find_dotenv())"
   ]
  },
  {
   "cell_type": "code",
   "execution_count": null,
   "id": "d75de196-841a-4c09-bafd-db7d5f844e2c",
   "metadata": {},
   "outputs": [],
   "source": [
    "credentials = os.environ['CREDS']"
   ]
  },
  {
   "cell_type": "code",
   "execution_count": null,
   "id": "ed67d89f-b51e-4aad-ac47-5a8324b8aef6",
   "metadata": {},
   "outputs": [],
   "source": [
    "\"\"\"Пример работы с чатом через gigachain\"\"\"\n",
    "from langchain.schema import HumanMessage, SystemMessage\n",
    "from langchain.chat_models.gigachat import GigaChat\n",
    "\n",
    "# Авторизация в сервисе GigaChat\n",
    "chat = GigaChat(credentials=credentials,scope='GIGACHAT_API_CORP', verify_ssl_certs=False)\n",
    "\n",
    "messages = [\n",
    "    SystemMessage(\n",
    "        content=\"Ты эмпатичный бот-психолог, который помогает пользователю решить его проблемы.\"\n",
    "    )\n",
    "]\n",
    "messages.append(HumanMessage(content='Привет! Скажи мне что-нибудь хорошее.'))\n",
    "\n",
    "res = chat(messages)\n",
    "print(res.content)\n",
    "# while(True):\n",
    "#     # Ввод пользователя\n",
    "#     user_input = input(\"User: \")\n",
    "#     messages.append(HumanMessage(content=user_input))\n",
    "#     res = chat(messages)\n",
    "#     messages.append(res)\n",
    "#     # Ответ сервиса\n",
    "#     print(\"Bot: \", res.content)"
   ]
  }
 ],
 "metadata": {
  "kernelspec": {
   "display_name": "Python 3 (ipykernel)",
   "language": "python",
   "name": "python3"
  },
  "language_info": {
   "codemirror_mode": {
    "name": "ipython",
    "version": 3
   },
   "file_extension": ".py",
   "mimetype": "text/x-python",
   "name": "python",
   "nbconvert_exporter": "python",
   "pygments_lexer": "ipython3",
   "version": "3.11.9"
  }
 },
 "nbformat": 4,
 "nbformat_minor": 5
}
