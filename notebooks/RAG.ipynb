{
 "cells": [
  {
   "cell_type": "code",
   "execution_count": 2,
   "id": "4b3d2778-7be7-49ae-b0de-126c13a2cae5",
   "metadata": {},
   "outputs": [],
   "source": [
    "import os\n",
    "import time\n"
   ]
  },
  {
   "cell_type": "code",
   "execution_count": 20,
   "id": "60f0bd90-8a85-49cf-b095-5bb78e8f11f6",
   "metadata": {},
   "outputs": [
    {
     "name": "stdout",
     "output_type": "stream",
     "text": [
      "time: 888 µs (started: 2024-04-24 20:12:41 +03:00)\n"
     ]
    }
   ],
   "source": [
    "try:\n",
    "    %load_ext autotime\n",
    "except:\n",
    "    !pip install -q ipython-autotime\n",
    "    %load_ext autotime"
   ]
  },
  {
   "cell_type": "code",
   "execution_count": 13,
   "id": "164bc273-1348-4086-a99a-8abba0d8120a",
   "metadata": {},
   "outputs": [
    {
     "name": "stdout",
     "output_type": "stream",
     "text": [
      "Collecting jq\n",
      "  Downloading jq-1.7.0-cp311-cp311-macosx_10_9_x86_64.whl.metadata (6.8 kB)\n",
      "Downloading jq-1.7.0-cp311-cp311-macosx_10_9_x86_64.whl (407 kB)\n",
      "\u001b[2K   \u001b[90m━━━━━━━━━━━━━━━━━━━━━━━━━━━━━━━━━━━━━━━━\u001b[0m \u001b[32m407.2/407.2 kB\u001b[0m \u001b[31m4.7 MB/s\u001b[0m eta \u001b[36m0:00:00\u001b[0ma \u001b[36m0:00:01\u001b[0m\n",
      "\u001b[?25hInstalling collected packages: jq\n",
      "Successfully installed jq-1.7.0\n"
     ]
    }
   ],
   "source": [
    "!pip install jq"
   ]
  },
  {
   "cell_type": "code",
   "execution_count": 25,
   "id": "403b2d71-0725-48d5-a35c-bfa64f0a742c",
   "metadata": {},
   "outputs": [
    {
     "name": "stdout",
     "output_type": "stream",
     "text": [
      "Collecting faiss-cpu\n",
      "  Downloading faiss_cpu-1.8.0-cp311-cp311-macosx_10_14_x86_64.whl.metadata (3.6 kB)\n",
      "Requirement already satisfied: numpy in /Users/tankoroleva/anaconda3/envs/giga_hack/lib/python3.11/site-packages (from faiss-cpu) (1.26.4)\n",
      "Downloading faiss_cpu-1.8.0-cp311-cp311-macosx_10_14_x86_64.whl (7.3 MB)\n",
      "\u001b[2K   \u001b[90m━━━━━━━━━━━━━━━━━━━━━━━━━━━━━━━━━━━━━━━━\u001b[0m \u001b[32m7.3/7.3 MB\u001b[0m \u001b[31m5.1 MB/s\u001b[0m eta \u001b[36m0:00:00\u001b[0m00:01\u001b[0m00:01\u001b[0m\n",
      "\u001b[?25hInstalling collected packages: faiss-cpu\n",
      "Successfully installed faiss-cpu-1.8.0\n",
      "time: 5.69 s (started: 2024-04-24 20:16:02 +03:00)\n"
     ]
    }
   ],
   "source": [
    "!pip install faiss-cpu # для gpu тут другая установка, faiss-gpu"
   ]
  },
  {
   "cell_type": "code",
   "execution_count": 26,
   "id": "44b23abc-7ad7-43d0-9274-88916deb70cb",
   "metadata": {
    "scrolled": true
   },
   "outputs": [
    {
     "name": "stdout",
     "output_type": "stream",
     "text": [
      "Collecting chromadb\n",
      "  Downloading chromadb-0.5.0-py3-none-any.whl.metadata (7.3 kB)\n",
      "Collecting build>=1.0.3 (from chromadb)\n",
      "  Downloading build-1.2.1-py3-none-any.whl.metadata (4.3 kB)\n",
      "Requirement already satisfied: requests>=2.28 in /Users/tankoroleva/anaconda3/envs/giga_hack/lib/python3.11/site-packages (from chromadb) (2.31.0)\n",
      "Requirement already satisfied: pydantic>=1.9 in /Users/tankoroleva/anaconda3/envs/giga_hack/lib/python3.11/site-packages (from chromadb) (2.7.1)\n",
      "Collecting chroma-hnswlib==0.7.3 (from chromadb)\n",
      "  Downloading chroma_hnswlib-0.7.3-cp311-cp311-macosx_10_9_x86_64.whl.metadata (252 bytes)\n",
      "Collecting fastapi>=0.95.2 (from chromadb)\n",
      "  Downloading fastapi-0.110.2-py3-none-any.whl.metadata (24 kB)\n",
      "Collecting uvicorn>=0.18.3 (from uvicorn[standard]>=0.18.3->chromadb)\n",
      "  Downloading uvicorn-0.29.0-py3-none-any.whl.metadata (6.3 kB)\n",
      "Requirement already satisfied: numpy>=1.22.5 in /Users/tankoroleva/anaconda3/envs/giga_hack/lib/python3.11/site-packages (from chromadb) (1.26.4)\n",
      "Collecting posthog>=2.4.0 (from chromadb)\n",
      "  Downloading posthog-3.5.0-py2.py3-none-any.whl.metadata (2.0 kB)\n",
      "Requirement already satisfied: typing-extensions>=4.5.0 in /Users/tankoroleva/anaconda3/envs/giga_hack/lib/python3.11/site-packages (from chromadb) (4.11.0)\n",
      "Collecting onnxruntime>=1.14.1 (from chromadb)\n",
      "  Downloading onnxruntime-1.16.3-cp311-cp311-macosx_10_15_x86_64.whl.metadata (4.3 kB)\n",
      "Collecting opentelemetry-api>=1.2.0 (from chromadb)\n",
      "  Downloading opentelemetry_api-1.24.0-py3-none-any.whl.metadata (1.3 kB)\n",
      "Collecting opentelemetry-exporter-otlp-proto-grpc>=1.2.0 (from chromadb)\n",
      "  Downloading opentelemetry_exporter_otlp_proto_grpc-1.24.0-py3-none-any.whl.metadata (2.2 kB)\n",
      "Collecting opentelemetry-instrumentation-fastapi>=0.41b0 (from chromadb)\n",
      "  Downloading opentelemetry_instrumentation_fastapi-0.45b0-py3-none-any.whl.metadata (2.0 kB)\n",
      "Collecting opentelemetry-sdk>=1.2.0 (from chromadb)\n",
      "  Downloading opentelemetry_sdk-1.24.0-py3-none-any.whl.metadata (1.4 kB)\n",
      "Collecting tokenizers>=0.13.2 (from chromadb)\n",
      "  Downloading tokenizers-0.19.1-cp311-cp311-macosx_10_12_x86_64.whl.metadata (6.7 kB)\n",
      "Collecting pypika>=0.48.9 (from chromadb)\n",
      "  Downloading PyPika-0.48.9.tar.gz (67 kB)\n",
      "\u001b[2K     \u001b[90m━━━━━━━━━━━━━━━━━━━━━━━━━━━━━━━━━━━━━━━\u001b[0m \u001b[32m67.3/67.3 kB\u001b[0m \u001b[31m769.0 kB/s\u001b[0m eta \u001b[36m0:00:00\u001b[0m \u001b[36m0:00:01\u001b[0m\n",
      "\u001b[?25h  Installing build dependencies ... \u001b[?25ldone\n",
      "\u001b[?25h  Getting requirements to build wheel ... \u001b[?25ldone\n",
      "\u001b[?25h  Preparing metadata (pyproject.toml) ... \u001b[?25ldone\n",
      "\u001b[?25hRequirement already satisfied: tqdm>=4.65.0 in /Users/tankoroleva/anaconda3/envs/giga_hack/lib/python3.11/site-packages (from chromadb) (4.66.2)\n",
      "Requirement already satisfied: overrides>=7.3.1 in /Users/tankoroleva/anaconda3/envs/giga_hack/lib/python3.11/site-packages (from chromadb) (7.7.0)\n",
      "Collecting importlib-resources (from chromadb)\n",
      "  Downloading importlib_resources-6.4.0-py3-none-any.whl.metadata (3.9 kB)\n",
      "Collecting grpcio>=1.58.0 (from chromadb)\n",
      "  Downloading grpcio-1.62.2-cp311-cp311-macosx_10_10_universal2.whl.metadata (4.0 kB)\n",
      "Collecting bcrypt>=4.0.1 (from chromadb)\n",
      "  Downloading bcrypt-4.1.2-cp39-abi3-macosx_10_12_universal2.whl.metadata (9.5 kB)\n",
      "Collecting typer>=0.9.0 (from chromadb)\n",
      "  Downloading typer-0.12.3-py3-none-any.whl.metadata (15 kB)\n",
      "Collecting kubernetes>=28.1.0 (from chromadb)\n",
      "  Downloading kubernetes-29.0.0-py2.py3-none-any.whl.metadata (1.5 kB)\n",
      "Requirement already satisfied: tenacity>=8.2.3 in /Users/tankoroleva/anaconda3/envs/giga_hack/lib/python3.11/site-packages (from chromadb) (8.2.3)\n",
      "Requirement already satisfied: PyYAML>=6.0.0 in /Users/tankoroleva/anaconda3/envs/giga_hack/lib/python3.11/site-packages (from chromadb) (6.0.1)\n",
      "Collecting mmh3>=4.0.1 (from chromadb)\n",
      "  Downloading mmh3-4.1.0-cp311-cp311-macosx_10_9_x86_64.whl.metadata (13 kB)\n",
      "Requirement already satisfied: orjson>=3.9.12 in /Users/tankoroleva/anaconda3/envs/giga_hack/lib/python3.11/site-packages (from chromadb) (3.10.1)\n",
      "Requirement already satisfied: packaging>=19.1 in /Users/tankoroleva/anaconda3/envs/giga_hack/lib/python3.11/site-packages (from build>=1.0.3->chromadb) (23.2)\n",
      "Collecting pyproject_hooks (from build>=1.0.3->chromadb)\n",
      "  Downloading pyproject_hooks-1.0.0-py3-none-any.whl.metadata (1.3 kB)\n",
      "Collecting starlette<0.38.0,>=0.37.2 (from fastapi>=0.95.2->chromadb)\n",
      "  Downloading starlette-0.37.2-py3-none-any.whl.metadata (5.9 kB)\n",
      "Requirement already satisfied: certifi>=14.05.14 in /Users/tankoroleva/anaconda3/envs/giga_hack/lib/python3.11/site-packages (from kubernetes>=28.1.0->chromadb) (2024.2.2)\n",
      "Requirement already satisfied: six>=1.9.0 in /Users/tankoroleva/anaconda3/envs/giga_hack/lib/python3.11/site-packages (from kubernetes>=28.1.0->chromadb) (1.16.0)\n",
      "Requirement already satisfied: python-dateutil>=2.5.3 in /Users/tankoroleva/anaconda3/envs/giga_hack/lib/python3.11/site-packages (from kubernetes>=28.1.0->chromadb) (2.9.0.post0)\n",
      "Collecting google-auth>=1.0.1 (from kubernetes>=28.1.0->chromadb)\n",
      "  Downloading google_auth-2.29.0-py2.py3-none-any.whl.metadata (4.7 kB)\n",
      "Requirement already satisfied: websocket-client!=0.40.0,!=0.41.*,!=0.42.*,>=0.32.0 in /Users/tankoroleva/anaconda3/envs/giga_hack/lib/python3.11/site-packages (from kubernetes>=28.1.0->chromadb) (1.8.0)\n",
      "Collecting requests-oauthlib (from kubernetes>=28.1.0->chromadb)\n",
      "  Downloading requests_oauthlib-2.0.0-py2.py3-none-any.whl.metadata (11 kB)\n",
      "Collecting oauthlib>=3.2.2 (from kubernetes>=28.1.0->chromadb)\n",
      "  Downloading oauthlib-3.2.2-py3-none-any.whl.metadata (7.5 kB)\n",
      "Requirement already satisfied: urllib3>=1.24.2 in /Users/tankoroleva/anaconda3/envs/giga_hack/lib/python3.11/site-packages (from kubernetes>=28.1.0->chromadb) (2.2.1)\n",
      "Collecting coloredlogs (from onnxruntime>=1.14.1->chromadb)\n",
      "  Downloading coloredlogs-15.0.1-py2.py3-none-any.whl.metadata (12 kB)\n",
      "Collecting flatbuffers (from onnxruntime>=1.14.1->chromadb)\n",
      "  Downloading flatbuffers-24.3.25-py2.py3-none-any.whl.metadata (850 bytes)\n",
      "Collecting protobuf (from onnxruntime>=1.14.1->chromadb)\n",
      "  Downloading protobuf-5.26.1-cp37-abi3-macosx_10_9_universal2.whl.metadata (592 bytes)\n",
      "Collecting sympy (from onnxruntime>=1.14.1->chromadb)\n",
      "  Downloading sympy-1.12-py3-none-any.whl.metadata (12 kB)\n",
      "Collecting deprecated>=1.2.6 (from opentelemetry-api>=1.2.0->chromadb)\n",
      "  Downloading Deprecated-1.2.14-py2.py3-none-any.whl.metadata (5.4 kB)\n",
      "Collecting importlib-metadata<=7.0,>=6.0 (from opentelemetry-api>=1.2.0->chromadb)\n",
      "  Downloading importlib_metadata-7.0.0-py3-none-any.whl.metadata (4.9 kB)\n",
      "Collecting googleapis-common-protos~=1.52 (from opentelemetry-exporter-otlp-proto-grpc>=1.2.0->chromadb)\n",
      "  Downloading googleapis_common_protos-1.63.0-py2.py3-none-any.whl.metadata (1.5 kB)\n",
      "Collecting opentelemetry-exporter-otlp-proto-common==1.24.0 (from opentelemetry-exporter-otlp-proto-grpc>=1.2.0->chromadb)\n",
      "  Downloading opentelemetry_exporter_otlp_proto_common-1.24.0-py3-none-any.whl.metadata (1.7 kB)\n",
      "Collecting opentelemetry-proto==1.24.0 (from opentelemetry-exporter-otlp-proto-grpc>=1.2.0->chromadb)\n",
      "  Downloading opentelemetry_proto-1.24.0-py3-none-any.whl.metadata (2.2 kB)\n",
      "Collecting protobuf (from onnxruntime>=1.14.1->chromadb)\n",
      "  Downloading protobuf-4.25.3-cp37-abi3-macosx_10_9_universal2.whl.metadata (541 bytes)\n",
      "Collecting opentelemetry-instrumentation-asgi==0.45b0 (from opentelemetry-instrumentation-fastapi>=0.41b0->chromadb)\n",
      "  Downloading opentelemetry_instrumentation_asgi-0.45b0-py3-none-any.whl.metadata (1.9 kB)\n",
      "Collecting opentelemetry-instrumentation==0.45b0 (from opentelemetry-instrumentation-fastapi>=0.41b0->chromadb)\n",
      "  Downloading opentelemetry_instrumentation-0.45b0-py3-none-any.whl.metadata (6.1 kB)\n",
      "Collecting opentelemetry-semantic-conventions==0.45b0 (from opentelemetry-instrumentation-fastapi>=0.41b0->chromadb)\n",
      "  Downloading opentelemetry_semantic_conventions-0.45b0-py3-none-any.whl.metadata (2.2 kB)\n",
      "Collecting opentelemetry-util-http==0.45b0 (from opentelemetry-instrumentation-fastapi>=0.41b0->chromadb)\n",
      "  Downloading opentelemetry_util_http-0.45b0-py3-none-any.whl.metadata (2.4 kB)\n",
      "Requirement already satisfied: setuptools>=16.0 in /Users/tankoroleva/anaconda3/envs/giga_hack/lib/python3.11/site-packages (from opentelemetry-instrumentation==0.45b0->opentelemetry-instrumentation-fastapi>=0.41b0->chromadb) (68.2.2)\n",
      "Collecting wrapt<2.0.0,>=1.0.0 (from opentelemetry-instrumentation==0.45b0->opentelemetry-instrumentation-fastapi>=0.41b0->chromadb)\n",
      "  Downloading wrapt-1.16.0-cp311-cp311-macosx_10_9_x86_64.whl.metadata (6.6 kB)\n",
      "Collecting asgiref~=3.0 (from opentelemetry-instrumentation-asgi==0.45b0->opentelemetry-instrumentation-fastapi>=0.41b0->chromadb)\n",
      "  Downloading asgiref-3.8.1-py3-none-any.whl.metadata (9.3 kB)\n",
      "Collecting monotonic>=1.5 (from posthog>=2.4.0->chromadb)\n",
      "  Downloading monotonic-1.6-py2.py3-none-any.whl.metadata (1.5 kB)\n",
      "Collecting backoff>=1.10.0 (from posthog>=2.4.0->chromadb)\n",
      "  Downloading backoff-2.2.1-py3-none-any.whl.metadata (14 kB)\n",
      "Requirement already satisfied: annotated-types>=0.4.0 in /Users/tankoroleva/anaconda3/envs/giga_hack/lib/python3.11/site-packages (from pydantic>=1.9->chromadb) (0.6.0)\n",
      "Requirement already satisfied: pydantic-core==2.18.2 in /Users/tankoroleva/anaconda3/envs/giga_hack/lib/python3.11/site-packages (from pydantic>=1.9->chromadb) (2.18.2)\n",
      "Requirement already satisfied: charset-normalizer<4,>=2 in /Users/tankoroleva/anaconda3/envs/giga_hack/lib/python3.11/site-packages (from requests>=2.28->chromadb) (3.3.2)\n",
      "Requirement already satisfied: idna<4,>=2.5 in /Users/tankoroleva/anaconda3/envs/giga_hack/lib/python3.11/site-packages (from requests>=2.28->chromadb) (3.7)\n",
      "Collecting huggingface-hub<1.0,>=0.16.4 (from tokenizers>=0.13.2->chromadb)\n",
      "  Downloading huggingface_hub-0.22.2-py3-none-any.whl.metadata (12 kB)\n",
      "Collecting click>=8.0.0 (from typer>=0.9.0->chromadb)\n",
      "  Downloading click-8.1.7-py3-none-any.whl.metadata (3.0 kB)\n",
      "Collecting shellingham>=1.3.0 (from typer>=0.9.0->chromadb)\n",
      "  Downloading shellingham-1.5.4-py2.py3-none-any.whl.metadata (3.5 kB)\n",
      "Collecting rich>=10.11.0 (from typer>=0.9.0->chromadb)\n",
      "  Downloading rich-13.7.1-py3-none-any.whl.metadata (18 kB)\n",
      "Requirement already satisfied: h11>=0.8 in /Users/tankoroleva/anaconda3/envs/giga_hack/lib/python3.11/site-packages (from uvicorn>=0.18.3->uvicorn[standard]>=0.18.3->chromadb) (0.14.0)\n",
      "Collecting httptools>=0.5.0 (from uvicorn[standard]>=0.18.3->chromadb)\n",
      "  Downloading httptools-0.6.1-cp311-cp311-macosx_10_9_x86_64.whl.metadata (3.6 kB)\n",
      "Requirement already satisfied: python-dotenv>=0.13 in /Users/tankoroleva/anaconda3/envs/giga_hack/lib/python3.11/site-packages (from uvicorn[standard]>=0.18.3->chromadb) (1.0.1)\n",
      "Collecting uvloop!=0.15.0,!=0.15.1,>=0.14.0 (from uvicorn[standard]>=0.18.3->chromadb)\n",
      "  Downloading uvloop-0.19.0-cp311-cp311-macosx_10_9_x86_64.whl.metadata (4.9 kB)\n",
      "Collecting watchfiles>=0.13 (from uvicorn[standard]>=0.18.3->chromadb)\n",
      "  Downloading watchfiles-0.21.0-cp311-cp311-macosx_10_7_x86_64.whl.metadata (4.9 kB)\n",
      "Collecting websockets>=10.4 (from uvicorn[standard]>=0.18.3->chromadb)\n",
      "  Downloading websockets-12.0-cp311-cp311-macosx_10_9_x86_64.whl.metadata (6.6 kB)\n",
      "Collecting cachetools<6.0,>=2.0.0 (from google-auth>=1.0.1->kubernetes>=28.1.0->chromadb)\n",
      "  Downloading cachetools-5.3.3-py3-none-any.whl.metadata (5.3 kB)\n",
      "Collecting pyasn1-modules>=0.2.1 (from google-auth>=1.0.1->kubernetes>=28.1.0->chromadb)\n",
      "  Downloading pyasn1_modules-0.4.0-py3-none-any.whl.metadata (3.4 kB)\n",
      "Collecting rsa<5,>=3.1.4 (from google-auth>=1.0.1->kubernetes>=28.1.0->chromadb)\n",
      "  Downloading rsa-4.9-py3-none-any.whl.metadata (4.2 kB)\n",
      "Collecting filelock (from huggingface-hub<1.0,>=0.16.4->tokenizers>=0.13.2->chromadb)\n",
      "  Downloading filelock-3.13.4-py3-none-any.whl.metadata (2.8 kB)\n",
      "Collecting fsspec>=2023.5.0 (from huggingface-hub<1.0,>=0.16.4->tokenizers>=0.13.2->chromadb)\n",
      "  Downloading fsspec-2024.3.1-py3-none-any.whl.metadata (6.8 kB)\n",
      "Collecting zipp>=0.5 (from importlib-metadata<=7.0,>=6.0->opentelemetry-api>=1.2.0->chromadb)\n",
      "  Downloading zipp-3.18.1-py3-none-any.whl.metadata (3.5 kB)\n",
      "Collecting markdown-it-py>=2.2.0 (from rich>=10.11.0->typer>=0.9.0->chromadb)\n",
      "  Downloading markdown_it_py-3.0.0-py3-none-any.whl.metadata (6.9 kB)\n",
      "Requirement already satisfied: pygments<3.0.0,>=2.13.0 in /Users/tankoroleva/anaconda3/envs/giga_hack/lib/python3.11/site-packages (from rich>=10.11.0->typer>=0.9.0->chromadb) (2.17.2)\n",
      "Requirement already satisfied: anyio<5,>=3.4.0 in /Users/tankoroleva/anaconda3/envs/giga_hack/lib/python3.11/site-packages (from starlette<0.38.0,>=0.37.2->fastapi>=0.95.2->chromadb) (4.3.0)\n",
      "Collecting humanfriendly>=9.1 (from coloredlogs->onnxruntime>=1.14.1->chromadb)\n",
      "  Downloading humanfriendly-10.0-py2.py3-none-any.whl.metadata (9.2 kB)\n",
      "Collecting mpmath>=0.19 (from sympy->onnxruntime>=1.14.1->chromadb)\n",
      "  Downloading mpmath-1.3.0-py3-none-any.whl.metadata (8.6 kB)\n",
      "Requirement already satisfied: sniffio>=1.1 in /Users/tankoroleva/anaconda3/envs/giga_hack/lib/python3.11/site-packages (from anyio<5,>=3.4.0->starlette<0.38.0,>=0.37.2->fastapi>=0.95.2->chromadb) (1.3.1)\n",
      "Collecting mdurl~=0.1 (from markdown-it-py>=2.2.0->rich>=10.11.0->typer>=0.9.0->chromadb)\n",
      "  Downloading mdurl-0.1.2-py3-none-any.whl.metadata (1.6 kB)\n",
      "Collecting pyasn1<0.7.0,>=0.4.6 (from pyasn1-modules>=0.2.1->google-auth>=1.0.1->kubernetes>=28.1.0->chromadb)\n",
      "  Downloading pyasn1-0.6.0-py2.py3-none-any.whl.metadata (8.3 kB)\n",
      "Downloading chromadb-0.5.0-py3-none-any.whl (526 kB)\n",
      "\u001b[2K   \u001b[90m━━━━━━━━━━━━━━━━━━━━━━━━━━━━━━━━━━━━━━━\u001b[0m \u001b[32m526.8/526.8 kB\u001b[0m \u001b[31m140.0 kB/s\u001b[0m eta \u001b[36m0:00:00\u001b[0ma \u001b[36m0:00:01\u001b[0m\n",
      "\u001b[?25hDownloading chroma_hnswlib-0.7.3-cp311-cp311-macosx_10_9_x86_64.whl (221 kB)\n",
      "\u001b[2K   \u001b[90m━━━━━━━━━━━━━━━━━━━━━━━━━━━━━━━━━━━━━━━\u001b[0m \u001b[32m221.2/221.2 kB\u001b[0m \u001b[31m178.5 kB/s\u001b[0m eta \u001b[36m0:00:00\u001b[0ma \u001b[36m0:00:01\u001b[0m\n",
      "\u001b[?25hDownloading bcrypt-4.1.2-cp39-abi3-macosx_10_12_universal2.whl (528 kB)\n",
      "\u001b[2K   \u001b[90m━━━━━━━━━━━━━━━━━━━━━━━━━━━━━━━━━━━━━━━\u001b[0m \u001b[32m528.5/528.5 kB\u001b[0m \u001b[31m195.7 kB/s\u001b[0m eta \u001b[36m0:00:00\u001b[0ma \u001b[36m0:00:01\u001b[0m\n",
      "\u001b[?25hDownloading build-1.2.1-py3-none-any.whl (21 kB)\n",
      "Downloading fastapi-0.110.2-py3-none-any.whl (91 kB)\n",
      "\u001b[2K   \u001b[90m━━━━━━━━━━━━━━━━━━━━━━━━━━━━━━━━━━━━━━━━\u001b[0m \u001b[32m91.9/91.9 kB\u001b[0m \u001b[31m129.6 kB/s\u001b[0m eta \u001b[36m0:00:00\u001b[0ma \u001b[36m0:00:01\u001b[0m\n",
      "\u001b[?25hDownloading grpcio-1.62.2-cp311-cp311-macosx_10_10_universal2.whl (10.0 MB)\n",
      "\u001b[2K   \u001b[90m━━━━━━━━━━━━━━━━━━━━━━━━━━━━━━━━━━━━━━━━\u001b[0m \u001b[32m10.0/10.0 MB\u001b[0m \u001b[31m177.2 kB/s\u001b[0m eta \u001b[36m0:00:00\u001b[0m00:01\u001b[0m0:02\u001b[0m\n",
      "\u001b[?25hDownloading kubernetes-29.0.0-py2.py3-none-any.whl (1.6 MB)\n",
      "\u001b[2K   \u001b[90m━━━━━━━━━━━━━━━━━━━━━━━━━━━━━━━━━━━━━━━━\u001b[0m \u001b[32m1.6/1.6 MB\u001b[0m \u001b[31m158.5 kB/s\u001b[0m eta \u001b[36m0:00:00\u001b[0m00:01\u001b[0m00:01\u001b[0m\n",
      "\u001b[?25hDownloading mmh3-4.1.0-cp311-cp311-macosx_10_9_x86_64.whl (29 kB)\n",
      "Downloading onnxruntime-1.16.3-cp311-cp311-macosx_10_15_x86_64.whl (7.1 MB)\n",
      "\u001b[2K   \u001b[90m━━━━━━━━━━━━━━━━━━━━━━━━━━━━━━━━━━━━━━━━\u001b[0m \u001b[32m7.1/7.1 MB\u001b[0m \u001b[31m129.9 kB/s\u001b[0m eta \u001b[36m0:00:00\u001b[0m00:01\u001b[0m00:02\u001b[0m\n",
      "\u001b[?25hDownloading opentelemetry_api-1.24.0-py3-none-any.whl (60 kB)\n",
      "\u001b[2K   \u001b[90m━━━━━━━━━━━━━━━━━━━━━━━━━━━━━━━━━━━━━━━━\u001b[0m \u001b[32m60.1/60.1 kB\u001b[0m \u001b[31m191.9 kB/s\u001b[0m eta \u001b[36m0:00:00\u001b[0ma \u001b[36m0:00:01\u001b[0m\n",
      "\u001b[?25hDownloading opentelemetry_exporter_otlp_proto_grpc-1.24.0-py3-none-any.whl (18 kB)\n",
      "Downloading opentelemetry_exporter_otlp_proto_common-1.24.0-py3-none-any.whl (17 kB)\n",
      "Downloading opentelemetry_proto-1.24.0-py3-none-any.whl (50 kB)\n",
      "\u001b[2K   \u001b[90m━━━━━━━━━━━━━━━━━━━━━━━━━━━━━━━━━━━━━━━━\u001b[0m \u001b[32m50.8/50.8 kB\u001b[0m \u001b[31m151.4 kB/s\u001b[0m eta \u001b[36m0:00:00\u001b[0ma \u001b[36m0:00:01\u001b[0m\n",
      "\u001b[?25hDownloading opentelemetry_instrumentation_fastapi-0.45b0-py3-none-any.whl (11 kB)\n",
      "Downloading opentelemetry_instrumentation-0.45b0-py3-none-any.whl (28 kB)\n",
      "Downloading opentelemetry_instrumentation_asgi-0.45b0-py3-none-any.whl (14 kB)\n",
      "Downloading opentelemetry_semantic_conventions-0.45b0-py3-none-any.whl (36 kB)\n",
      "Downloading opentelemetry_util_http-0.45b0-py3-none-any.whl (6.9 kB)\n",
      "Downloading opentelemetry_sdk-1.24.0-py3-none-any.whl (106 kB)\n",
      "\u001b[2K   \u001b[90m━━━━━━━━━━━━━━━━━━━━━━━━━━━━━━━━━━━━━━━━\u001b[0m \u001b[32m106.1/106.1 kB\u001b[0m \u001b[31m92.5 kB/s\u001b[0m eta \u001b[36m0:00:00\u001b[0ma \u001b[36m0:00:01\u001b[0m\n",
      "\u001b[?25hDownloading posthog-3.5.0-py2.py3-none-any.whl (41 kB)\n",
      "\u001b[2K   \u001b[90m━━━━━━━━━━━━━━━━━━━━━━━━━━━━━━━━━━━━━━━━\u001b[0m \u001b[32m41.3/41.3 kB\u001b[0m \u001b[31m279.5 kB/s\u001b[0m eta \u001b[36m0:00:00\u001b[0m00:01\u001b[0m00:01\u001b[0m\n",
      "\u001b[?25hDownloading tokenizers-0.19.1-cp311-cp311-macosx_10_12_x86_64.whl (2.5 MB)\n",
      "\u001b[2K   \u001b[90m━━━━━━━━━━━━━━━━━━━━━━━━━━━━━━━━━━━━━━━━\u001b[0m \u001b[32m2.5/2.5 MB\u001b[0m \u001b[31m164.1 kB/s\u001b[0m eta \u001b[36m0:00:00\u001b[0m00:01\u001b[0m00:01\u001b[0m\n",
      "\u001b[?25hDownloading typer-0.12.3-py3-none-any.whl (47 kB)\n",
      "\u001b[2K   \u001b[90m━━━━━━━━━━━━━━━━━━━━━━━━━━━━━━━━━━━━━━━━\u001b[0m \u001b[32m47.2/47.2 kB\u001b[0m \u001b[31m225.3 kB/s\u001b[0m eta \u001b[36m0:00:00\u001b[0ma \u001b[36m0:00:01\u001b[0m\n",
      "\u001b[?25hDownloading uvicorn-0.29.0-py3-none-any.whl (60 kB)\n",
      "\u001b[2K   \u001b[90m━━━━━━━━━━━━━━━━━━━━━━━━━━━━━━━━━━━━━━━━\u001b[0m \u001b[32m60.8/60.8 kB\u001b[0m \u001b[31m345.8 kB/s\u001b[0m eta \u001b[36m0:00:00\u001b[0ma \u001b[36m0:00:01\u001b[0m\n",
      "\u001b[?25hDownloading importlib_resources-6.4.0-py3-none-any.whl (38 kB)\n",
      "Downloading backoff-2.2.1-py3-none-any.whl (15 kB)\n",
      "Downloading click-8.1.7-py3-none-any.whl (97 kB)\n",
      "\u001b[2K   \u001b[90m━━━━━━━━━━━━━━━━━━━━━━━━━━━━━━━━━━━━━━━━\u001b[0m \u001b[32m97.9/97.9 kB\u001b[0m \u001b[31m182.6 kB/s\u001b[0m eta \u001b[36m0:00:00\u001b[0ma \u001b[36m0:00:01\u001b[0m\n",
      "\u001b[?25hDownloading Deprecated-1.2.14-py2.py3-none-any.whl (9.6 kB)\n",
      "Downloading google_auth-2.29.0-py2.py3-none-any.whl (189 kB)\n",
      "\u001b[2K   \u001b[90m━━━━━━━━━━━━━━━━━━━━━━━━━━━━━━━━━━━━━━━\u001b[0m \u001b[32m189.2/189.2 kB\u001b[0m \u001b[31m222.7 kB/s\u001b[0m eta \u001b[36m0:00:00\u001b[0ma \u001b[36m0:00:01\u001b[0m\n",
      "\u001b[?25hDownloading googleapis_common_protos-1.63.0-py2.py3-none-any.whl (229 kB)\n",
      "\u001b[2K   \u001b[90m━━━━━━━━━━━━━━━━━━━━━━━━━━━━━━━━━━━━━━━\u001b[0m \u001b[32m229.1/229.1 kB\u001b[0m \u001b[31m153.9 kB/s\u001b[0m eta \u001b[36m0:00:00\u001b[0ma \u001b[36m0:00:01\u001b[0m\n",
      "\u001b[?25hDownloading httptools-0.6.1-cp311-cp311-macosx_10_9_x86_64.whl (75 kB)\n",
      "\u001b[2K   \u001b[90m━━━━━━━━━━━━━━━━━━━━━━━━━━━━━━━━━━━━━━━━\u001b[0m \u001b[32m75.6/75.6 kB\u001b[0m \u001b[31m137.5 kB/s\u001b[0m eta \u001b[36m0:00:00\u001b[0ma \u001b[36m0:00:01\u001b[0m\n",
      "\u001b[?25hDownloading huggingface_hub-0.22.2-py3-none-any.whl (388 kB)\n",
      "\u001b[2K   \u001b[90m━━━━━━━━━━━━━━━━━━━━━━━━━━━━━━━━━━━━━━━\u001b[0m \u001b[32m388.9/388.9 kB\u001b[0m \u001b[31m179.8 kB/s\u001b[0m eta \u001b[36m0:00:00\u001b[0ma \u001b[36m0:00:01\u001b[0m\n",
      "\u001b[?25hDownloading importlib_metadata-7.0.0-py3-none-any.whl (23 kB)\n",
      "Downloading monotonic-1.6-py2.py3-none-any.whl (8.2 kB)\n",
      "Downloading oauthlib-3.2.2-py3-none-any.whl (151 kB)\n",
      "\u001b[2K   \u001b[90m━━━━━━━━━━━━━━━━━━━━━━━━━━━━━━━━━━━━━━━\u001b[0m \u001b[32m151.7/151.7 kB\u001b[0m \u001b[31m241.3 kB/s\u001b[0m eta \u001b[36m0:00:00\u001b[0ma \u001b[36m0:00:01\u001b[0m\n",
      "\u001b[?25hDownloading protobuf-4.25.3-cp37-abi3-macosx_10_9_universal2.whl (394 kB)\n",
      "\u001b[2K   \u001b[90m━━━━━━━━━━━━━━━━━━━━━━━━━━━━━━━━━━━━━━━\u001b[0m \u001b[32m394.2/394.2 kB\u001b[0m \u001b[31m196.5 kB/s\u001b[0m eta \u001b[36m0:00:00\u001b[0ma \u001b[36m0:00:01\u001b[0m\n",
      "\u001b[?25hDownloading rich-13.7.1-py3-none-any.whl (240 kB)\n",
      "\u001b[2K   \u001b[90m━━━━━━━━━━━━━━━━━━━━━━━━━━━━━━━━━━━━━━━\u001b[0m \u001b[32m240.7/240.7 kB\u001b[0m \u001b[31m213.7 kB/s\u001b[0m eta \u001b[36m0:00:00\u001b[0ma \u001b[36m0:00:01\u001b[0m\n",
      "\u001b[?25hDownloading shellingham-1.5.4-py2.py3-none-any.whl (9.8 kB)\n",
      "Downloading starlette-0.37.2-py3-none-any.whl (71 kB)\n",
      "\u001b[2K   \u001b[90m━━━━━━━━━━━━━━━━━━━━━━━━━━━━━━━━━━━━━━━━\u001b[0m \u001b[32m71.9/71.9 kB\u001b[0m \u001b[31m180.1 kB/s\u001b[0m eta \u001b[36m0:00:00\u001b[0ma \u001b[36m0:00:01\u001b[0m\n",
      "\u001b[?25hDownloading uvloop-0.19.0-cp311-cp311-macosx_10_9_x86_64.whl (746 kB)\n",
      "\u001b[2K   \u001b[90m━━━━━━━━━━━━━━━━━━━━━━━━━━━━━━━━━━━━━━━\u001b[0m \u001b[32m746.4/746.4 kB\u001b[0m \u001b[31m139.3 kB/s\u001b[0m eta \u001b[36m0:00:00\u001b[0m00:01\u001b[0m00:01\u001b[0m\n",
      "\u001b[?25hDownloading watchfiles-0.21.0-cp311-cp311-macosx_10_7_x86_64.whl (428 kB)\n",
      "\u001b[2K   \u001b[90m━━━━━━━━━━━━━━━━━━━━━━━━━━━━━━━━━━━━━━━\u001b[0m \u001b[32m428.2/428.2 kB\u001b[0m \u001b[31m136.4 kB/s\u001b[0m eta \u001b[36m0:00:00\u001b[0ma \u001b[36m0:00:01\u001b[0m\n",
      "\u001b[?25hDownloading websockets-12.0-cp311-cp311-macosx_10_9_x86_64.whl (121 kB)\n",
      "\u001b[2K   \u001b[90m━━━━━━━━━━━━━━━━━━━━━━━━━━━━━━━━━━━━━━━\u001b[0m \u001b[32m121.3/121.3 kB\u001b[0m \u001b[31m137.3 kB/s\u001b[0m eta \u001b[36m0:00:00\u001b[0ma \u001b[36m0:00:01\u001b[0m\n",
      "\u001b[?25hDownloading coloredlogs-15.0.1-py2.py3-none-any.whl (46 kB)\n",
      "\u001b[2K   \u001b[90m━━━━━━━━━━━━━━━━━━━━━━━━━━━━━━━━━━━━━━━━\u001b[0m \u001b[32m46.0/46.0 kB\u001b[0m \u001b[31m241.8 kB/s\u001b[0m eta \u001b[36m0:00:00\u001b[0ma \u001b[36m0:00:01\u001b[0m\n",
      "\u001b[?25hDownloading flatbuffers-24.3.25-py2.py3-none-any.whl (26 kB)\n",
      "Downloading pyproject_hooks-1.0.0-py3-none-any.whl (9.3 kB)\n",
      "Downloading requests_oauthlib-2.0.0-py2.py3-none-any.whl (24 kB)\n",
      "Downloading sympy-1.12-py3-none-any.whl (5.7 MB)\n",
      "\u001b[2K   \u001b[90m━━━━━━━━━━━━━━━━━━━━━━━━━━━━━━━━━━━━━━━━\u001b[0m \u001b[32m5.7/5.7 MB\u001b[0m \u001b[31m146.1 kB/s\u001b[0m eta \u001b[36m0:00:00\u001b[0m00:01\u001b[0m00:02\u001b[0m\n",
      "\u001b[?25hDownloading asgiref-3.8.1-py3-none-any.whl (23 kB)\n",
      "Downloading cachetools-5.3.3-py3-none-any.whl (9.3 kB)\n",
      "Downloading fsspec-2024.3.1-py3-none-any.whl (171 kB)\n",
      "\u001b[2K   \u001b[90m━━━━━━━━━━━━━━━━━━━━━━━━━━━━━━━━━━━━━━━\u001b[0m \u001b[32m172.0/172.0 kB\u001b[0m \u001b[31m147.2 kB/s\u001b[0m eta \u001b[36m0:00:00\u001b[0ma \u001b[36m0:00:01\u001b[0m\n",
      "\u001b[?25hDownloading humanfriendly-10.0-py2.py3-none-any.whl (86 kB)\n",
      "\u001b[2K   \u001b[90m━━━━━━━━━━━━━━━━━━━━━━━━━━━━━━━━━━━━━━━━\u001b[0m \u001b[32m86.8/86.8 kB\u001b[0m \u001b[31m220.3 kB/s\u001b[0m eta \u001b[36m0:00:00\u001b[0ma \u001b[36m0:00:01\u001b[0m\n",
      "\u001b[?25hDownloading markdown_it_py-3.0.0-py3-none-any.whl (87 kB)\n",
      "\u001b[2K   \u001b[90m━━━━━━━━━━━━━━━━━━━━━━━━━━━━━━━━━━━━━━━━\u001b[0m \u001b[32m87.5/87.5 kB\u001b[0m \u001b[31m157.5 kB/s\u001b[0m eta \u001b[36m0:00:00\u001b[0ma \u001b[36m0:00:01\u001b[0m\n",
      "\u001b[?25hDownloading mpmath-1.3.0-py3-none-any.whl (536 kB)\n",
      "\u001b[2K   \u001b[90m━━━━━━━━━━━━━━━━━━━━━━━━━━━━━━━━━━━━━━━\u001b[0m \u001b[32m536.2/536.2 kB\u001b[0m \u001b[31m182.9 kB/s\u001b[0m eta \u001b[36m0:00:00\u001b[0m00:01\u001b[0m00:01\u001b[0m\n",
      "\u001b[?25hDownloading pyasn1_modules-0.4.0-py3-none-any.whl (181 kB)\n",
      "\u001b[2K   \u001b[90m━━━━━━━━━━━━━━━━━━━━━━━━━━━━━━━━━━━━━━━\u001b[0m \u001b[32m181.2/181.2 kB\u001b[0m \u001b[31m163.4 kB/s\u001b[0m eta \u001b[36m0:00:00\u001b[0ma \u001b[36m0:00:01\u001b[0m\n",
      "\u001b[?25hDownloading rsa-4.9-py3-none-any.whl (34 kB)\n",
      "Downloading wrapt-1.16.0-cp311-cp311-macosx_10_9_x86_64.whl (37 kB)\n",
      "Downloading zipp-3.18.1-py3-none-any.whl (8.2 kB)\n",
      "Downloading filelock-3.13.4-py3-none-any.whl (11 kB)\n",
      "Downloading mdurl-0.1.2-py3-none-any.whl (10.0 kB)\n",
      "Downloading pyasn1-0.6.0-py2.py3-none-any.whl (85 kB)\n",
      "\u001b[2K   \u001b[90m━━━━━━━━━━━━━━━━━━━━━━━━━━━━━━━━━━━━━━━━\u001b[0m \u001b[32m85.3/85.3 kB\u001b[0m \u001b[31m161.6 kB/s\u001b[0m eta \u001b[36m0:00:00\u001b[0ma \u001b[36m0:00:01\u001b[0m\n",
      "\u001b[?25hBuilding wheels for collected packages: pypika\n",
      "  Building wheel for pypika (pyproject.toml) ... \u001b[?25ldone\n",
      "\u001b[?25h  Created wheel for pypika: filename=PyPika-0.48.9-py2.py3-none-any.whl size=53724 sha256=5334ccd2d479fe8784a44e271dde6cc827d44603496df68091f83e92e8eb11c6\n",
      "  Stored in directory: /Users/tankoroleva/Library/Caches/pip/wheels/a3/01/bd/4c40ceb9d5354160cb186dcc153360f4ab7eb23e2b24daf96d\n",
      "Successfully built pypika\n",
      "Installing collected packages: pypika, mpmath, monotonic, mmh3, flatbuffers, zipp, wrapt, websockets, uvloop, sympy, shellingham, pyproject_hooks, pyasn1, protobuf, opentelemetry-util-http, opentelemetry-semantic-conventions, oauthlib, mdurl, importlib-resources, humanfriendly, httptools, grpcio, fsspec, filelock, click, chroma-hnswlib, cachetools, bcrypt, backoff, asgiref, watchfiles, uvicorn, starlette, rsa, requests-oauthlib, pyasn1-modules, posthog, opentelemetry-proto, markdown-it-py, importlib-metadata, huggingface-hub, googleapis-common-protos, deprecated, coloredlogs, build, tokenizers, rich, opentelemetry-exporter-otlp-proto-common, opentelemetry-api, onnxruntime, google-auth, fastapi, typer, opentelemetry-sdk, opentelemetry-instrumentation, kubernetes, opentelemetry-instrumentation-asgi, opentelemetry-exporter-otlp-proto-grpc, opentelemetry-instrumentation-fastapi, chromadb\n",
      "Successfully installed asgiref-3.8.1 backoff-2.2.1 bcrypt-4.1.2 build-1.2.1 cachetools-5.3.3 chroma-hnswlib-0.7.3 chromadb-0.5.0 click-8.1.7 coloredlogs-15.0.1 deprecated-1.2.14 fastapi-0.110.2 filelock-3.13.4 flatbuffers-24.3.25 fsspec-2024.3.1 google-auth-2.29.0 googleapis-common-protos-1.63.0 grpcio-1.62.2 httptools-0.6.1 huggingface-hub-0.22.2 humanfriendly-10.0 importlib-metadata-7.0.0 importlib-resources-6.4.0 kubernetes-29.0.0 markdown-it-py-3.0.0 mdurl-0.1.2 mmh3-4.1.0 monotonic-1.6 mpmath-1.3.0 oauthlib-3.2.2 onnxruntime-1.16.3 opentelemetry-api-1.24.0 opentelemetry-exporter-otlp-proto-common-1.24.0 opentelemetry-exporter-otlp-proto-grpc-1.24.0 opentelemetry-instrumentation-0.45b0 opentelemetry-instrumentation-asgi-0.45b0 opentelemetry-instrumentation-fastapi-0.45b0 opentelemetry-proto-1.24.0 opentelemetry-sdk-1.24.0 opentelemetry-semantic-conventions-0.45b0 opentelemetry-util-http-0.45b0 posthog-3.5.0 protobuf-4.25.3 pyasn1-0.6.0 pyasn1-modules-0.4.0 pypika-0.48.9 pyproject_hooks-1.0.0 requests-oauthlib-2.0.0 rich-13.7.1 rsa-4.9 shellingham-1.5.4 starlette-0.37.2 sympy-1.12 tokenizers-0.19.1 typer-0.12.3 uvicorn-0.29.0 uvloop-0.19.0 watchfiles-0.21.0 websockets-12.0 wrapt-1.16.0 zipp-3.18.1\n",
      "time: 4min 18s (started: 2024-04-24 20:16:29 +03:00)\n"
     ]
    }
   ],
   "source": [
    "!pip install chromadb # вот этот опционально, пока что с ним запустить не удалось, и скачивается долго"
   ]
  },
  {
   "cell_type": "code",
   "execution_count": 4,
   "id": "b70396d2-9b9c-4208-b8ad-87313519a7e9",
   "metadata": {},
   "outputs": [],
   "source": [
    "CREDS = "
   ]
  },
  {
   "cell_type": "code",
   "execution_count": 7,
   "id": "15e6a1f2-abd8-4405-bfc3-ac47024b7c83",
   "metadata": {},
   "outputs": [],
   "source": [
    "import json\n",
    "from langchain_community.document_loaders import JSONLoader\n",
    "from langchain_community.vectorstores import FAISS\n",
    "from langchain.text_splitter import RecursiveCharacterTextSplitter\n",
    "from langchain_community.embeddings.gigachat import GigaChatEmbeddings"
   ]
  },
  {
   "cell_type": "code",
   "execution_count": 9,
   "id": "a3dfb7b8-1266-4fdf-8813-5881a4800bad",
   "metadata": {},
   "outputs": [],
   "source": [
    "PATH_DATASET = 'texts_rag.csv'\n",
    "JSON_SAVE_PATH = \"texts_all.json\""
   ]
  },
  {
   "cell_type": "code",
   "execution_count": 14,
   "id": "6f20ea4c-85d9-495b-8dce-30db28862abc",
   "metadata": {},
   "outputs": [
    {
     "name": "stdout",
     "output_type": "stream",
     "text": [
      "CPU times: user 48.6 ms, sys: 10.4 ms, total: 59 ms\n",
      "Wall time: 745 ms\n"
     ]
    }
   ],
   "source": [
    "%%time\n",
    "# Определяем функцию извлечения метаданных.\n",
    "def metadata_func(record: dict, metadata: dict) -> dict:\n",
    "    metadata[\"source\"] = record.get(\"url\")\n",
    "    # metadata[\"Заголовок\"] = record.get(\"Заголовок\")\n",
    "\n",
    "    return metadata\n",
    "\n",
    "loader = JSONLoader(\n",
    "    file_path=JSON_SAVE_PATH,\n",
    "    jq_schema='.[]', # схема\n",
    "    text_content=False, \n",
    "    metadata_func=metadata_func, \n",
    "    content_key=\"text\" # главный столбец для анализа\n",
    ")\n",
    "\n",
    "documents = loader.load()"
   ]
  },
  {
   "cell_type": "code",
   "execution_count": 15,
   "id": "ae4fce44-b434-4d97-9730-8fe92c6bb2ab",
   "metadata": {
    "scrolled": true
   },
   "outputs": [
    {
     "data": {
      "text/plain": [
       "Document(page_content='Российские юристы обсудили спорные моменты в законодательстве - Российская газетаНовостиНовости компанийНаши проектыСвежий номерРГ-НеделяРодинаТематические приложенияСоюзСвежий номерПодписка на изданиеПодписаться на новостиВойтиНовостиВластьЭкономикаВ регионахВ миреПроисшествияОбществоСпортКультураДокументыСпецпроектыЕщёЛента новостейДокументыСпецпроектыВласть13.10.2014 23:44ПоделитьсяРоссийские юристы обсудили спорные моменты в законодательствеИрина КолодинаВ этом году в России произошло несколько важных событий, имеющих далеко идущие юридические последствия. В марте в состав Российской Федерации вошли два новых субъекта - Республика Крым и город Севастополь. Сейчас в этих субъектах - переходный период, в ходе которого формируются суды, система адвокатуры и нотариата, решаются вопросы кадастра и регистрации прав на недвижимость. 6 августа начал работу обновленный Верховный суд РФ, который теперь занимается и рассмотрением экономических споров. И наконец, летом и осенью вступили в силу довольно объемные изменения в Гражданский кодекс - главный документ, регулирующий хозяйственную жизнь страны. Эти события обсудили участники юридического форума для практиков \"Главные правовые события года\", организованный юридической справочной системой \"Система Юрист\". В этом году на форум  приехали 4500 человек из 170 городов России.По словам организаторов, форум запомнится двумя особенностями. Во-первых, значимостью тем. В прошлом году изменений в законодательстве было меньше и они не так сильно затрагивали практику. Во-вторых, масштабом самого мероприятия. Впервые форум прошел в Государственном Кремлевском дворце. \"Но именно сейчас это как никогда оправданно. Юристам предстоит разобраться в очень большом объеме новых правил, и важно, чтобы им в этом помогли как судьи, так и разработчики изменений в законодательстве\", - уверен Николай Чудаков, главный редактор ЮСС \"Система Юрист\".В этом году о важных изменениях в законодательстве гостям форума рассказывали член рабочей группы по подготовке реформы ГК РФ Роман Бевзенко, председатель Шестнадцатого арбитражного апелляционного суда Александр Мильков, председатель Пятого арбитражного апелляционного суда Александр Шевченко и председатель судебного состава Суда по интеллектуальным правам Сергей Уколов.Обсуждение главных событий года началось с судебной реформы. Напомним, что 6 августа начал работу новый Верховный суд и произошли существенные изменения в арбитражном процессе. Порядок рассмотрения жалоб в судебной коллегии по экономическим спорам Верховного суда и президиуме Верховного суда сильно отличается от ранее действовавшего порядка надзорного производства в ВАС. Участники форума обсудили изменения, которые касаются максимально широкого круга юристов. В частности, перспективы электронного правосудия и электронного документооборота в судах.Созданное ВАС электронное правосудие было очень востребовано практическими юристами, и многих беспокоило, сохранится ли эта система после объединения судов. \"Сервис подачи документов продолжает работу в прежнем режиме\", - развеял опасения председатель Шестнадцатого арбитражного апелляционного суда Александр Мильков. Он подтвердил, что система электронной подачи документов и онлайн-система отслеживания дел в арбитраже у юристов становится все более популярной. \"В этом году к нам в суд поступило 4 тысячи документов в электронном виде\", - сказал Александр Мильков.Участники форума сошлись на том, что нет необходимости в каком-либо ужесточении требований к представлению документов в суд в электронном виде. В частности, нет необходимости обязывать юристов подписывать такие сообщения электронной подписью.На форуме также говорили о порядке оформления документов при обжаловании судебных актов. Раньше к заявлению было достаточно приложить простую копию оспариваемого судебного акта. Такую копию можно было распечатать из картотеки арбитражных дел. По новым правилам при обращении в Верховный суд нужно приложить к жалобе копию судебного акта, которая заверена печатью соответствующего суда. Однако, как пояснили судьи, эта норма не изменена, а лишь конкретизирована и призвана исключить любые сомнения у судьи при работе с документами. При обращении в апелляцию и кассацию такое заверение пока не требуется. Это подтвердил и судья Суда по интеллектуальным правам Дмитрий Булгаков. \"Пока нам позволяют, мы тоже принимаем документы в электронном виде\", - сказал он.Самое главное изменение: сведения о залоге движимого имущества теперь можно внести в реестр. И приоритет будет у того залогодержателя, который сделал это быстрее остальныхЕще один спорный момент - применение постановлений пленума и президиума ВАС, а также информационных писем Высшего арбитражного суда после объединения судов. \"После упразднения ВАС РФ юридическая общественность постоянно обсуждает слухи о том, что Верховный суд РФ отменит ряд постановлений Пленума ВАС РФ, которые, по мнению многих, либо не основаны на законе, либо чрезмерно широко его толкуют. Однако пока Пленум Верховного суда РФ не принял соответствующего решения, все постановления Пленума ВАС РФ формально продолжают действовать.Такие правила были установлены в части 1 статьи 3 Федерального конституционного закона от 4 июня 2014 г. N 8-ФКЗ \"О внесении изменений в Федеральный конституционный закон \"Об арбитражных судах в Российской Федерации\" и статью 2 Федерального конституционного закона \"О Верховном суде Российской Федерации\", - пояснили эксперты \"Системы Юрист\". А судья Одиннадцатого арбитражного апелляционного суда Вячеслав Семушкин отметил: \"Ничто не препятствует сторонам цитировать в исках, отзывах и жалобах те правовые позиции вышестоящих судов, которые подтверждают их позицию\".Важные изменения в этом году внесены в Гражданский кодекс. Вступила в силу новая редакция главы 4 Гражданского кодекса, которая изменила классификацию юридических лиц. С 1 июля изменились правила залога. Все положения о залоге теперь закреплены в Гражданском кодексе, а закон от 29 мая 1992 года N 2872 утратил силу. Самое главное изменение: сведения о залоге движимого имущества теперь можно внести в реестр. И приоритет будет у того залогодержателя, который сделал это быстрее остальных. Также установлена защита для добросовестных залогодержателей и добросовестных приобретателей, то есть для тех, кто самостоятельно или при помощи нотариусов проверил, не находится ли движимое имущество уже в залоге. А требования к описанию основного обязательства и предмета залога стали менее жесткими. \"При этом надо учесть, что изменения в этом году затронули не глубокие теоретические основы права, а предельно конкретные вопросы, волнующие абсолютно всех. Например, с 1 июля всем покупателям автомобилей, оборудования, прочего движимого имущества необходимо проверять в специальном реестре, не находится ли оно в залоге. А юристам всех ООО потребуется в скором времени внести изменения в устав; если этого не сделать, то на все общие собрания участников придется приглашать нотариуса, а это дополнительные расходы\", - рассказал Николай Чудаков.Российская Бизнес-газета -   №40(969)ПоделитьсяГражданское правоВерховный суд© 1998-2024ФГБУ «Редакция  «Российской газеты»ВластьЭкономикаВ регионахВ миреПроисшествияОбществоСпортКультураТематические проекты:Русское оружиеАвтопаркЮрконсультацияТехнологииКинократияСтиль жизниКвадратный метрДубль дв@Совместные проекты:Пушкинский конкурсСтань журналистом!Миссия выполнимаВ МГИМО - с «РГ»Звезды ПобедыГод литературыРоссия-Китай: события и комментарииРегиональное контент-партнерствоО газетеПодпискаКонтактыОбратная связьРекламаМедиацентрСервисы и приложенияВакансииРассылка «Свежий номер» каждое утроВ рассылку включаются главные материалы свежего номера «Российской Газеты»?ПодписатьсяИспользование материалов «РГ»Обязательная для публикации информацияНа сайте rg.ru применяются рекомендательные технологии (информационные технологии предоставления информации на основе сбора, систематизации и анализа сведений, относящихся к предпочтениям пользователей сети «Интернет», находящихся на территории Российской Федерации). Подробная информацияИнтернет-портал «Российской газеты» (16+) зарегистрирован в\\xa0Роскомнадзоре 21.06.2012 г. Номер свидетельства ЭЛ\\xa0№\\xa0ФС\\xa077 — 50379.Учредитель ФГБУ «Редакция «Российской газеты»Главный редактор В.А. ФронинRSS+7 (495) 775-31-18+7 (499) 257-56-50mail@rg.ruРедакция не несет ответственности за мнения, высказанные в комментариях читателей.© 1998-2024 ФГБУ «Редакция «Российской газеты»+16', metadata={'source': 'https://rg.ru/2014/10/14/zakonodatelctvo.html', 'seq_num': 2})"
      ]
     },
     "execution_count": 15,
     "metadata": {},
     "output_type": "execute_result"
    }
   ],
   "source": [
    "documents[1]"
   ]
  },
  {
   "cell_type": "code",
   "execution_count": 17,
   "id": "9749c2e8-2562-4cb8-92d9-313f8d864a37",
   "metadata": {},
   "outputs": [
    {
     "data": {
      "text/plain": [
       "[Document(page_content='С 1 июня в силу вступят новые поправки в Гражданский кодекс РФ - Российская газетаНовостиНовости компанийНаши проектыСвежий номерРГ-НеделяРодинаТематические приложенияСоюзСвежий номерПодписка на изданиеПодписаться на новостиВойтиНовостиВластьЭкономикаВ регионахВ миреПроисшествияОбществоСпортКультураДокументыСпецпроектыЕщёЛента новостейДокументыСпецпроектыВласть26.05.2015 18:05ПоделитьсяС 1 июня в силу вступят новые поправки в Гражданский кодекс РФИрина ГоловаНа 2015 год пришелся большой объем', metadata={'source': 'https://rg.ru/2015/05/27/popravki.html', 'seq_num': 1}),\n",
       " Document(page_content='РФИрина ГоловаНа 2015 год пришелся большой объем изменений в Гражданский кодекс РФ в рамках реформы гражданского законодательства. Причем поправки вступили в силу не только в январе, но и в марте, и в апреле. Большой блок подготовлен к введению с 1 июня 2015 года.Одно из значимых изменений - с 1 января 2015 года исчезла необходимость описывать все имущество, находящееся в залоге у предпринимателей. Норма п. 2 ст. 339 ГК РФ позволяет описывать предмет залога любым способом, позволяющим', metadata={'source': 'https://rg.ru/2015/05/27/popravki.html', 'seq_num': 1}),\n",
       " Document(page_content='предмет залога любым способом, позволяющим идентифицировать имущество. \"Так, в договоре залога, залогодателем по которому является лицо, осуществляющее предпринимательскую деятельность, предметом залога может быть признано все имущество залогодателя, определенная его часть либо имущество определенного рода или вида\", - говорит Антон Соничев, адвокат компании \"Деловой фарватер\". Например, договор о залоге может содержать формулировку: \"Залогом является все имущество, принадлежащее залогодателю', metadata={'source': 'https://rg.ru/2015/05/27/popravki.html', 'seq_num': 1}),\n",
       " Document(page_content='все имущество, принадлежащее залогодателю на праве собственности на момент заключения настоящего договора\".С 1 января 2015 года в ГК РФ внесены масштабные поправки, посвященные интеллектуальной собственности и коммерческой тайне. \"Уделено внимание госрегулированию отношений в сфере интеллектуальной собственности, - перечисляет эксперт Ксения Романова, ведущий юрист \"Европейской Юридической Службы\". - Изменения затронули и закон о коммерческой тайне. Обновлено понятие информации, составляющей', metadata={'source': 'https://rg.ru/2015/05/27/popravki.html', 'seq_num': 1}),\n",
       " Document(page_content='тайне. Обновлено понятие информации, составляющей эту тайну, а также прописаны права обладателя таких сведений. В новой редакции изложены положения, касающиеся охраны конфиденциальности информации, составляющей коммерческую тайну, в рамках трудовых отношений\". Говорить о проблемах в применении вступивших норм пока не приходится. Большинство новелл является отражением сложившейся судебной практики, они направлены на закрепление на законодательном уровне уже сложившихся подходов, считает Ксения', metadata={'source': 'https://rg.ru/2015/05/27/popravki.html', 'seq_num': 1})]"
      ]
     },
     "execution_count": 17,
     "metadata": {},
     "output_type": "execute_result"
    }
   ],
   "source": [
    "#  разбиваем элемент из documents на более мелкие части\n",
    "\n",
    "text_splitter = RecursiveCharacterTextSplitter(chunk_size=500, chunk_overlap=50)\n",
    "texts = text_splitter.split_documents(documents)\n",
    "texts[0:5]"
   ]
  },
  {
   "cell_type": "code",
   "execution_count": 23,
   "id": "d2969ea7-122a-419f-9970-47a8c48e3859",
   "metadata": {},
   "outputs": [
    {
     "name": "stdout",
     "output_type": "stream",
     "text": [
      "time: 435 µs (started: 2024-04-24 20:15:18 +03:00)\n"
     ]
    }
   ],
   "source": [
    "embeddings = GigaChatEmbeddings(\n",
    "    credentials=CREDS, scope='GIGACHAT_API_CORP', verify_ssl_certs=False\n",
    ")"
   ]
  },
  {
   "cell_type": "code",
   "execution_count": 27,
   "id": "51c2eb79-6355-4706-8d90-a2fdfc2742bb",
   "metadata": {},
   "outputs": [
    {
     "name": "stdout",
     "output_type": "stream",
     "text": [
      "time: 4.38 s (started: 2024-04-24 20:32:40 +03:00)\n"
     ]
    }
   ],
   "source": [
    "db_faiss = FAISS.from_documents(texts, embeddings)"
   ]
  },
  {
   "cell_type": "markdown",
   "id": "212049f3-6114-440a-9b64-f2d9ae1d37b1",
   "metadata": {},
   "source": [
    "# Как работает"
   ]
  },
  {
   "cell_type": "code",
   "execution_count": 30,
   "id": "e27193d2-1041-4561-8231-7169ec8cf337",
   "metadata": {},
   "outputs": [
    {
     "data": {
      "text/plain": [
       "[(Document(page_content='С 1 июня в силу вступят новые поправки в Гражданский кодекс РФ - Российская газетаНовостиНовости компанийНаши проектыСвежий номерРГ-НеделяРодинаТематические приложенияСоюзСвежий номерПодписка на изданиеПодписаться на новостиВойтиНовостиВластьЭкономикаВ регионахВ миреПроисшествияОбществоСпортКультураДокументыСпецпроектыЕщёЛента новостейДокументыСпецпроектыВласть26.05.2015 18:05ПоделитьсяС 1 июня в силу вступят новые поправки в Гражданский кодекс РФИрина ГоловаНа 2015 год пришелся большой объем', metadata={'source': 'https://rg.ru/2015/05/27/popravki.html', 'seq_num': 1}),\n",
       "  233.34628),\n",
       " (Document(page_content='Президент РФ Владимир Путин подписал\\xa0очередной блок поправок\\xa0в Гражданский кодекс РФ, касающийся\\xa0залога и уступки прав\\xa0требования. Сегодня этот 83-страничный документ размещен на портале официального опубликования правовых актов. Федеральным законом в новой редакции излагается\\xa0параграф 3 \"Залог\" главы 23\\xa0части первой ГК РФ.\\xa0Уточняются условия\\xa0возникновения залога: так, если предметом залога является имущество, которое будет создано или приобретено залогодателем в будущем, залог возникает у', metadata={'source': 'https://pravo.ru/news/view/100021/', 'seq_num': 5}),\n",
       "  236.56421),\n",
       " (Document(page_content='Гражданский кодекс пополнится и ранее неизвестными ему договором об управлении залогом, залогом прав по банковскому (залоговому) счету, а также правилами о залоге прав участников общества с ограниченной ответственностью.\\nЗаконом отменен Закон о залоге, а некоторые его положения перенесены в нормы ГК РФ. Также из текста Кодекса исчезнут упоминания об ипотеке, которые должны регулироваться специальным законом.', metadata={'source': 'https://www.eg-online.ru/article/236248/', 'seq_num': 6}),\n",
       "  245.61528),\n",
       " (Document(page_content='2011 г. № 10 \"О некоторых вопросах применения законодательства о залоге\"   Cкорректированы нормы ГК РФ о залоге – ИА \"ГАРАНТ\", 24 декабря 2013 г. Третий пакет масштабных поправок в ГК РФ подписан Президентом РФ – ИА \"ГАРАНТ\", 4 июля 2013 г. В ГК РФ внесены очередные поправки – ИА \"ГАРАНТ\", 13 мая 2013 г.     Материалы по теме:\\xa0  Реформа гражданского законодательства  В 2013 году в Российской Федерации произошла реформа гражданского  законодательства. В ранее действовавшие нормы ГК РФ целой', metadata={'source': 'https://www.garant.ru/article/587204/', 'seq_num': 4}),\n",
       "  257.1523),\n",
       " (Document(page_content='читайте также\\nПреображение ГК РФ продолжается: новые правила для финансовых сделок\\n11.08.2017 |\\nстатьи\\nБанкиры нуждаются в разъяснении новых правил о залоге\\n07.05.2014 |\\nстатьи\\nШаг вперед: Госдума «переварила» нормы ГК РФ о сделках и представительстве (таблица)\\n17.05.2013 |\\nстатьи\\nНовый Гражданский кодекс… На старт, внимание, марш!\\n11.01.2013 |\\nстатьи', metadata={'source': 'https://www.eg-online.ru/article/236248/', 'seq_num': 6}),\n",
       "  260.96387)]"
      ]
     },
     "execution_count": 30,
     "metadata": {},
     "output_type": "execute_result"
    },
    {
     "name": "stdout",
     "output_type": "stream",
     "text": [
      "time: 583 ms (started: 2024-04-24 20:34:41 +03:00)\n"
     ]
    }
   ],
   "source": [
    "query = 'Какие поправки вступили в Гражданский кодекс'\n",
    "db_faiss.similarity_search_with_score(query, k=5)"
   ]
  },
  {
   "cell_type": "code",
   "execution_count": 31,
   "id": "a106bb41-f1f4-4071-9654-b81540e81a3a",
   "metadata": {},
   "outputs": [
    {
     "data": {
      "text/plain": [
       "[(Document(page_content='следующие последствия: при недействительности основного обязательства недействительным становится и залоговое обязательство, уступка прав по основному обязательству влечёт за собой уступки прав по залоговому и\\xa0т.\\xa0д. Залог недвижимого имущества носит название ипотека.', metadata={'source': 'https://ru.wikipedia.org/wiki/%D0%97%D0%B0%D0%BB%D0%BE%D0%B3_(%D0%B3%D1%80%D0%B0%D0%B6%D0%B4%D0%B0%D0%BD%D1%81%D0%BA%D0%BE%D0%B5_%D0%BF%D1%80%D0%B0%D0%B2%D0%BE)', 'seq_num': 8}),\n",
       "  241.97705),\n",
       " (Document(page_content='на залог имущества определенных рода или вида. Например, договоре о залоге может содержать такую фразу: \"Залогом является все имущество, принадлежащее залогодателю на праве собственности на момент заключения настоящего договора\". Очевидно, что данная конструкция снизит вероятность оспаривания залога со стороны недобросовестных должников. Между тем, у этой новеллы есть и недостатки. \"При всей моей любви к кредиторам и нелюбви к должникам, которые не исполняют обязательства, мне кажется, что', metadata={'source': 'https://www.garant.ru/article/587204/', 'seq_num': 4}),\n",
       "  257.3662),\n",
       " (Document(page_content='вещи, запрете последующей ипотеки. В итоге, к примеру, последующий залог смогут оспорить.', metadata={'source': 'https://www.law.ru/article/21945-zalog-gk-rf', 'seq_num': 7}),\n",
       "  261.65262),\n",
       " (Document(page_content='Залог\\xa0— способ обеспечения исполнения обязательств, при котором кредитор (залогодержатель) имеет право в случае невыполнения должником (залогодателем) обеспеченного залогом обязательства получить удовлетворение своего требования из стоимости заложенного имущества преимущественно перед другими кредиторами, за исключением случаев, предусмотренных законодательством.', metadata={'source': 'https://ru.wikipedia.org/wiki/%D0%97%D0%B0%D0%BB%D0%BE%D0%B3_(%D0%B3%D1%80%D0%B0%D0%B6%D0%B4%D0%B0%D0%BD%D1%81%D0%BA%D0%BE%D0%B5_%D0%BF%D1%80%D0%B0%D0%B2%D0%BE)', 'seq_num': 8}),\n",
       "  265.25964),\n",
       " (Document(page_content='отношений\", - рассказывает Петр Шевцов, партнер адвокатского бюро \"ЕМПП\". Станет возможным устанавливать штраф за односторонний отказ от исполнения обязательств в рамках предпринимательских отношений. Письменное признание долга по истечении срока исковой давности будет ее восстанавливать. Поручительство будет обеспечивать не только денежные, но и неденежные обязательства. Гарантия сможет быть предоставлена не только банками и страховыми компаниями, но и любыми коммерческими компаниями.', metadata={'source': 'https://rg.ru/2015/05/27/popravki.html', 'seq_num': 1}),\n",
       "  265.46906)]"
      ]
     },
     "execution_count": 31,
     "metadata": {},
     "output_type": "execute_result"
    },
    {
     "name": "stdout",
     "output_type": "stream",
     "text": [
      "time: 1.66 s (started: 2024-04-24 20:42:20 +03:00)\n"
     ]
    }
   ],
   "source": [
    "query = 'штрафы за отказ от исполнения обязательств'\n",
    "db_faiss.similarity_search_with_score(query, k=5)"
   ]
  },
  {
   "cell_type": "markdown",
   "id": "e0fca2c5-9e1a-4560-b803-e9d11a2aaa9e",
   "metadata": {},
   "source": [
    "Тут только 5-е в тему."
   ]
  },
  {
   "cell_type": "markdown",
   "id": "0e4e3a61-8adf-4678-b366-2d70754023b7",
   "metadata": {},
   "source": [
    "Следующие шаги:\n",
    "- применить разные способы деления на чанки\n",
    "- проверить эмбеддинги мультилингв модели\n",
    "- можно попробовать другую векторную базу (chroma)\n",
    "- улучшить сам датасет, например, добавить столбец \"Заголовок\", почистить склеенные слова или лишние куски."
   ]
  },
  {
   "cell_type": "code",
   "execution_count": null,
   "id": "d3385f04-d187-4f7c-a254-3fa535b03d85",
   "metadata": {},
   "outputs": [],
   "source": []
  }
 ],
 "metadata": {
  "kernelspec": {
   "display_name": "Python 3 (ipykernel)",
   "language": "python",
   "name": "python3"
  },
  "language_info": {
   "codemirror_mode": {
    "name": "ipython",
    "version": 3
   },
   "file_extension": ".py",
   "mimetype": "text/x-python",
   "name": "python",
   "nbconvert_exporter": "python",
   "pygments_lexer": "ipython3",
   "version": "3.11.9"
  }
 },
 "nbformat": 4,
 "nbformat_minor": 5
}
